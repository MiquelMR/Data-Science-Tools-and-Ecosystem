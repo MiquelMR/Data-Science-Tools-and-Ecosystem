{
 "cells": [
  {
   "cell_type": "markdown",
   "id": "8cb209db-9d96-43fe-aee0-d8f06704ac41",
   "metadata": {},
   "source": [
    "# Data Science Tools and Ecosystem"
   ]
  },
  {
   "cell_type": "markdown",
   "id": "652aa134-074a-4aac-8283-7291406791d2",
   "metadata": {},
   "source": [
    "In this notebook, Data Science Tools and Ecosystem are summarized."
   ]
  },
  {
   "cell_type": "markdown",
   "id": "7e80f319-71f8-4929-8d85-da10ac34c485",
   "metadata": {},
   "source": [
    "Some of the popular languages that Data Scientists use are:\n",
    "1. Python\n",
    "2. R\n",
    "3. Java\n",
    "4. SQL"
   ]
  },
  {
   "cell_type": "markdown",
   "id": "996c30db-114e-462b-bb5d-9e37562914d9",
   "metadata": {},
   "source": [
    "Some of the commonly used libraries used by Data Scientists include:\n",
    "1. Knitr\n",
    "2. Cadet\n",
    "3. Ggplot"
   ]
  },
  {
   "cell_type": "markdown",
   "id": "52a34cfb-0626-42f5-9583-b25b41d9de2c",
   "metadata": {},
   "source": [
    "| Data Science Tools |\n",
    "| -----------------: |\n",
    "| Github             |\n",
    "| Anaconda           |\n",
    "| Jupyter Notebooks  |"
   ]
  },
  {
   "cell_type": "markdown",
   "id": "72a19097-d00a-4ff5-b18a-128da87b7aa7",
   "metadata": {},
   "source": [
    "### Below are a few examples of evaluating arithmetic expressions in Python\n"
   ]
  },
  {
   "cell_type": "markdown",
   "id": "a9cd5b85-03a1-4d1a-856f-fdad436cf578",
   "metadata": {},
   "source": [
    "This a simple arithmetic expression to mutiply then add integers"
   ]
  },
  {
   "cell_type": "code",
   "execution_count": 9,
   "id": "d11451bb-522d-402b-ab0b-f94892109ab7",
   "metadata": {},
   "outputs": [
    {
     "data": {
      "text/plain": [
       "17"
      ]
     },
     "execution_count": 9,
     "metadata": {},
     "output_type": "execute_result"
    }
   ],
   "source": [
    "(3*4)+5"
   ]
  },
  {
   "cell_type": "markdown",
   "id": "8e39b19a-f411-49a0-a5c4-1cc15cd2f773",
   "metadata": {},
   "source": [
    "This will convert 200 minutes to hours by diving by 60"
   ]
  },
  {
   "cell_type": "code",
   "execution_count": 14,
   "id": "6810a9e5-1141-4b28-ac09-6ebb92a49959",
   "metadata": {},
   "outputs": [
    {
     "data": {
      "text/plain": [
       "3.3333333333333335"
      ]
     },
     "execution_count": 14,
     "metadata": {},
     "output_type": "execute_result"
    }
   ],
   "source": [
    "200/60"
   ]
  },
  {
   "cell_type": "markdown",
   "id": "ee9e23f6-18ee-47e8-8b09-accebf6295ee",
   "metadata": {},
   "source": [
    "Objectives:\n",
    "- Use ordered/unordered lists\n",
    "- Learn Python Basics\n",
    "- Application of basic Markdown syntax\n",
    "- Clone, commit and push with GitHub"
   ]
  },
  {
   "cell_type": "markdown",
   "id": "6e893bf9-b1e8-4bb5-8d49-21701832397d",
   "metadata": {},
   "source": [
    "## Miquel Mauri Richarte"
   ]
  },
  {
   "cell_type": "code",
   "execution_count": null,
   "id": "4cbed2f5-8e46-4299-8dff-f79cfb4f760c",
   "metadata": {},
   "outputs": [],
   "source": []
  }
 ],
 "metadata": {
  "kernelspec": {
   "display_name": "Python 3 (ipykernel)",
   "language": "python",
   "name": "python3"
  },
  "language_info": {
   "codemirror_mode": {
    "name": "ipython",
    "version": 3
   },
   "file_extension": ".py",
   "mimetype": "text/x-python",
   "name": "python",
   "nbconvert_exporter": "python",
   "pygments_lexer": "ipython3",
   "version": "3.11.7"
  }
 },
 "nbformat": 4,
 "nbformat_minor": 5
}
